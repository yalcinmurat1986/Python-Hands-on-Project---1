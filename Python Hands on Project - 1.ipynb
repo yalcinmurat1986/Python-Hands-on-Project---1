{
 "cells": [
  {
   "cell_type": "markdown",
   "metadata": {},
   "source": [
    "This Project is prepared from CAPT Hyink, Computational Methods Course / NPS"
   ]
  },
  {
   "cell_type": "markdown",
   "metadata": {},
   "source": [
    "# PYTHON HANDS ON PROJECTS"
   ]
  },
  {
   "cell_type": "markdown",
   "metadata": {
    "collapsed": true
   },
   "source": [
    "# PROJECT 1"
   ]
  },
  {
   "cell_type": "markdown",
   "metadata": {},
   "source": [
    "Use following four functions to do project"
   ]
  },
  {
   "cell_type": "code",
   "execution_count": 1,
   "metadata": {
    "collapsed": true
   },
   "outputs": [],
   "source": [
    "import math\n",
    "\n",
    "# converts the coordinates from deg,min,sec format into degress in decimal\n",
    "def deg_min_sec_to_decimal(deg:float, mins:float, sec:float):\n",
    "    if deg > 0.0:\n",
    "        return (deg + float(mins)/60 + float(sec)/3600)\n",
    "    else:\n",
    "        return -1*((-1*deg + float(mins)/60 + float(sec)/3600))\n",
    "        \n",
    "# converts the measure of a given angle in degree to its radians equivalent ra\n",
    "def deg_to_rad(degrees):\n",
    "    return (degrees*math.pi/180.0)\n",
    "\n",
    "# calculates the great circle distance between two points (input and output are both in radians)\n",
    "def calc_distance(lat1,lon1,lat2,lon2):\n",
    "    d_rad = math.acos(math.sin(lat1)*math.sin(lat2)+math.cos(lat1)*math.cos(lat2)*math.cos(lon1-lon2))\n",
    "    return d_rad\n",
    "\n",
    "# converts the distance from radians into neutical miles(nm)\n",
    "def rad_to_NM(radians):\n",
    "    return ( ( 180 * 60 ) / math.pi) * radians"
   ]
  },
  {
   "cell_type": "markdown",
   "metadata": {},
   "source": [
    "Before you see the code below try to do four things on your own"
   ]
  },
  {
   "cell_type": "markdown",
   "metadata": {},
   "source": [
    "# 1. Ask your user how many total coordinates will be entered, and have your program ask for excatly that number of coordinates"
   ]
  },
  {
   "cell_type": "markdown",
   "metadata": {},
   "source": [
    "  # 2. Read-back to the user the lat/long they entered in decimal format"
   ]
  },
  {
   "cell_type": "markdown",
   "metadata": {},
   "source": [
    "# 3. For every newly added coordinate, calculate and display the individual segment distance from previous coordinate."
   ]
  },
  {
   "cell_type": "markdown",
   "metadata": {},
   "source": [
    "# 4. Modify your program so that it also computes and reports the total distance traveled along the entire store"
   ]
  },
  {
   "cell_type": "code",
   "execution_count": 16,
   "metadata": {},
   "outputs": [
    {
     "name": "stdout",
     "output_type": "stream",
     "text": [
      "How many coordinates you want to enter: \n",
      "3\n",
      "i:  0\n",
      "Enter Coordinate 1 Latitute\n",
      "degrees: 1\n",
      "minutes: 2\n",
      "seconds: 3\n",
      "Enter Coordinate 1 Longitude\n",
      "degrees: 4\n",
      "minutes: 5\n",
      "seconds: 6\n",
      "Coordinate  1 = 1.0341666666666667 4.085\n",
      "i:  1\n",
      "Enter Coordinate 2 Latitute\n",
      "degrees: 7\n",
      "minutes: 8\n",
      "seconds: 9\n",
      "Enter Coordinate 2 Longitude\n",
      "degrees: 2\n",
      "minutes: 3\n",
      "seconds: 4\n",
      "Coordinate  2 = 7.135833333333334 2.051111111111111\n",
      "dist i-1: 0\n",
      "Distance between 1 and 2 = 1.7778100269089583\n",
      "i:  2\n",
      "Enter Coordinate 3 Latitute\n",
      "degrees: 5\n",
      "minutes: 6\n",
      "seconds: 7\n",
      "Enter Coordinate 3 Longitude\n",
      "degrees: 4\n",
      "minutes: 5\n",
      "seconds: 6\n",
      "Coordinate  3 = 5.101944444444444 4.085\n",
      "dist i-1: 0\n",
      "Distance between 2 and 3 = 0.05005766880436528\n",
      "Distance from 1 to  3 is  1.8278676957133235 [1.7778100269089583, 0.05005766880436528]\n"
     ]
    }
   ],
   "source": [
    "total_coordinates = int(input('How many coordinates you want to enter: \\n'))\n",
    "count=0\n",
    "dist=[0]*(total_coordinates-1)\n",
    "\n",
    "lat=[0]*total_coordinates\n",
    "long=[0]*total_coordinates\n",
    "for i in range(0, total_coordinates):\n",
    "\n",
    "    print('i: ',i)\n",
    "    print('Enter Coordinate',i+1 , 'Latitute')\n",
    "    deg = float(input('degrees: '))\n",
    "    mins = float(input('minutes: '))\n",
    "    sec = float(input('seconds: '))\n",
    "    lat[i] = deg_min_sec_to_decimal(deg, mins, sec)\n",
    "\n",
    "    print('Enter Coordinate' ,i+1, 'Longitude')\n",
    "    deg = float(input('degrees: '))\n",
    "    mins = float(input('minutes: '))\n",
    "    sec = float(input('seconds: '))\n",
    "    long[i] = deg_min_sec_to_decimal(deg, mins, sec)\n",
    "    print('Coordinate ',i+1,'=', lat[i], long[i])\n",
    "\n",
    "    if i > 0:\n",
    "        print('dist i-1:',dist[i-1])\n",
    "        lat[i] = deg_to_rad(lat[i])\n",
    "        long[i] = deg_to_rad(long[i])\n",
    "        dist[i-1] = calc_distance(lat[i-1],long[i-1],lat[i],long[i])\n",
    "        print('Distance between', i, 'and', i+1, '=' , dist[i-1])\n",
    "print('Distance from 1 to ',total_coordinates, 'is ', sum(dist))"
   ]
  },
  {
   "cell_type": "markdown",
   "metadata": {
    "collapsed": true
   },
   "source": [
    "This Project is prepared from CAPT Hyink, Computational Methods Course / NPS"
   ]
  },
  {
   "cell_type": "code",
   "execution_count": null,
   "metadata": {
    "collapsed": true
   },
   "outputs": [],
   "source": []
  }
 ],
 "metadata": {
  "kernelspec": {
   "display_name": "Python 3",
   "language": "python",
   "name": "python3"
  },
  "language_info": {
   "codemirror_mode": {
    "name": "ipython",
    "version": 3
   },
   "file_extension": ".py",
   "mimetype": "text/x-python",
   "name": "python",
   "nbconvert_exporter": "python",
   "pygments_lexer": "ipython3",
   "version": "3.6.3"
  }
 },
 "nbformat": 4,
 "nbformat_minor": 2
}
